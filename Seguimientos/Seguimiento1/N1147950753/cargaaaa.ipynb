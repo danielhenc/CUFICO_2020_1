{
 "cells": [
  {
   "cell_type": "code",
   "execution_count": 10,
   "metadata": {},
   "outputs": [],
   "source": [
    "#!/usr/bin/env python\n",
    "# coding: utf-8\n",
    "\n",
    "# In[ ]:\n",
    "\n",
    "\n",
    "import numpy as np\n",
    "import matplotlib.pylab as plt\n",
    "\n",
    "m = 10 # masa de la particula\n",
    "q = 1 # carga de la particula\n",
    "#m = 9.1*10**-31\n",
    "#q = 1.9*10**-19 #coulomb\n",
    "B = 10# magnitud del campo magnetico\n",
    "t = 0.01 # numer de pasos\n",
    "\n",
    "class particula:\n",
    "    cargada = True\n",
    "\n",
    "    def __init__(self, x,y,z,Vx,Vy,Vz,Ax,Ay,Az,m,q):\n",
    "        self.X = x\n",
    "        self.Y = y\n",
    "        self.Z = z\n",
    "        self.VX = Vx\n",
    "        self.VY = Vy\n",
    "        self.VZ = Vz\n",
    "        self.AX = Ax\n",
    "        self.AY = Ay\n",
    "        self.AZ = Az\n",
    "        self.M = m\n",
    "        self.Carga = q\n",
    "\n",
    "    \n",
    "    def evoA(self,Bz,d,x1,y1,z1):\n",
    "        k=1\n",
    "        self.AX=-(k*self.Carga**2*x1)/(self.M*d)+(self.Carga*self.VY*Bz)/self.M\n",
    "        self.AY=-(k*self.Carga**2*y1)/(self.M*d)-(self.Carga*self.VX*Bz)/self.M\n",
    "        self.AZ=-(k*self.Carga**2*z1)/(self.M*d)\n",
    "    def evoV(self,t):\n",
    "        self.VX=self.VX+self.AX*t\n",
    "        self.VY=self.VY+self.AY*t\n",
    "        self.VZ=self.VZ+self.AZ*t\n",
    "    def evoP(self,t):\n",
    "        self.X=self.X+(self.VX*t)+(0.5*self.AX*(t*t))\n",
    "        self.Y=self.Y+(self.VY*t)+(0.5*self.AY*(t*t))\n",
    "        self.Z=self.Z+(self.VZ*t)+(0.5*self.AZ*(t*t))\n",
    "\n",
    "p1 = particula(0,0,0,0,0,0,0,0,0,m,q)\n",
    "p2 = particula(1,0,0,0,0,0,0,0,0,m,-q)\n"
   ]
  },
  {
   "cell_type": "code",
   "execution_count": null,
   "metadata": {},
   "outputs": [],
   "source": [
    "for i in range(1,10000):\n",
    "    d=((p1.X-p2.X)**2+(p1.Y-p2.Y)**2+(p1.Z-p2.Z)**2)**(3/2)\n",
    "    x1=(p2.X-p1.X)\n",
    "    y1=(p2.Y-p1.Y)\n",
    "    z1=(p2.Z-p1.Z)\n",
    "\n",
    "    p1.evoA(Bz,d,x1,y1,z1)\n",
    "    p2.evoA(Bz,d,x1,y1,z1)\n",
    "\n",
    "    p1.evoV(t)\n",
    "    p2.evoV(t)\n",
    "\n",
    "    p1.evoP(t)\n",
    "    p2.evoP(t)\n",
    "\n",
    "    plt.plot(p1.X,p1.Y,\".\",color=\"b\")\n",
    "    plt.plot(p2.X,p2.Y,\".\",color=\"r\")\n",
    "\n",
    "plt.show()\n",
    "\n"
   ]
  },
  {
   "cell_type": "code",
   "execution_count": null,
   "metadata": {},
   "outputs": [],
   "source": []
  }
 ],
 "metadata": {
  "kernelspec": {
   "display_name": "Python 3",
   "language": "python",
   "name": "python3"
  },
  "language_info": {
   "codemirror_mode": {
    "name": "ipython",
    "version": 3
   },
   "file_extension": ".py",
   "mimetype": "text/x-python",
   "name": "python",
   "nbconvert_exporter": "python",
   "pygments_lexer": "ipython3",
   "version": "3.6.9"
  }
 },
 "nbformat": 4,
 "nbformat_minor": 2
}
